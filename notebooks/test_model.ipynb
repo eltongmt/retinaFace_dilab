{
 "cells": [
  {
   "cell_type": "code",
   "execution_count": 17,
   "metadata": {},
   "outputs": [],
   "source": [
    "from retinaface import RetinaFace\n",
    "from pathlib import Path\n",
    "import os\n",
    "import matplotlib.pyplot as plt\n",
    "import cv2\n"
   ]
  },
  {
   "cell_type": "code",
   "execution_count": 21,
   "metadata": {},
   "outputs": [],
   "source": [
    "image_dir = Path(r\"M:\\experiment_70\\included\\__20140331_16579\\cam08_frames_p\")\n",
    "image_list = os.listdir(image_dir)\n",
    "\n",
    "model = RetinaFace.detect_faces"
   ]
  },
  {
   "cell_type": "code",
   "execution_count": 22,
   "metadata": {},
   "outputs": [
    {
     "name": "stdout",
     "output_type": "stream",
     "text": [
      "M:\\experiment_70\\included\\__20140331_16579\\cam08_frames_p\\Thumbs.db\n"
     ]
    }
   ],
   "source": [
    "tot = 0\n",
    "\n",
    "for img in image_list:\n",
    "    direct_img = os.path.join(image_dir, img)\n",
    "    try:\n",
    "        preds = model(direct_img)\n",
    "    except:\n",
    "        print(direct_img)\n",
    "    if len(preds) != 0:\n",
    "        tot+=1\n"
   ]
  },
  {
   "cell_type": "code",
   "execution_count": 28,
   "metadata": {},
   "outputs": [
    {
     "data": {
      "text/plain": [
       "False"
      ]
     },
     "execution_count": 28,
     "metadata": {},
     "output_type": "execute_result"
    }
   ],
   "source": [
    "img.split(\".\")[-1] != \"jpg\""
   ]
  }
 ],
 "metadata": {
  "kernelspec": {
   "display_name": "tf",
   "language": "python",
   "name": "python3"
  },
  "language_info": {
   "codemirror_mode": {
    "name": "ipython",
    "version": 3
   },
   "file_extension": ".py",
   "mimetype": "text/x-python",
   "name": "python",
   "nbconvert_exporter": "python",
   "pygments_lexer": "ipython3",
   "version": "3.9.20"
  }
 },
 "nbformat": 4,
 "nbformat_minor": 2
}
