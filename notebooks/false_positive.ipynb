{
 "cells": [
  {
   "cell_type": "code",
   "execution_count": 12,
   "metadata": {},
   "outputs": [],
   "source": [
    "import pandas as pd\n",
    "import numpy as np"
   ]
  },
  {
   "cell_type": "code",
   "execution_count": 77,
   "metadata": {},
   "outputs": [],
   "source": [
    "df = pd.read_csv(r\"Z:\\elton\\DI\\duplicates.txt\")\n",
    "df[\"frame\"] += 1 "
   ]
  },
  {
   "cell_type": "code",
   "execution_count": 78,
   "metadata": {},
   "outputs": [
    {
     "name": "stderr",
     "output_type": "stream",
     "text": [
      "C:\\Users\\multimaster\\AppData\\Local\\Temp\\ipykernel_18276\\2310894459.py:11: UserWarning: loadtxt: input contained no data: \"M:\\experiment_70\\included\\__20140610_16909\\supporting_files\\bbox_annotations_child_face\\img_4328.txt\"\n",
      "  bbox = np.loadtxt(path, delimiter=\" \")\n"
     ]
    }
   ],
   "source": [
    "prev = df.iloc[0,1] - 1\n",
    "cont = 0\n",
    "\n",
    "cont_list = np.zeros((1, df.shape[0]))\n",
    "bbox_matrix = np.zeros((df.shape[0], 5))\n",
    "\n",
    "for i in df.index:\n",
    "    path = f\"M:\\\\experiment_70\\\\included\\\\{df.iloc[i, 0]}\\\\supporting_files\\\\bbox_annotations_child_face\\\\img_{df.iloc[i, 1]}.txt\"\n",
    "\n",
    "    try:\n",
    "        bbox = np.loadtxt(path, delimiter=\" \")\n",
    "        bbox_matrix[i,:] = bbox[1:]\n",
    "    except:\n",
    "        pass\n",
    "\n",
    "\n",
    "    if df.iloc[i, 1] == prev + 1: \n",
    "        cont += 1 \n",
    "        \n",
    "    else:\n",
    "        cont = 1 \n",
    "    cont_list[0, i] = cont\n",
    "\n",
    "    prev = df.iloc[i, 1]\n",
    "\n",
    "df[\"cont\"] = cont_list.T"
   ]
  },
  {
   "cell_type": "code",
   "execution_count": 79,
   "metadata": {},
   "outputs": [
    {
     "data": {
      "text/plain": [
       "count    327.000000\n",
       "mean       7.238532\n",
       "std        6.357305\n",
       "min        1.000000\n",
       "25%        2.000000\n",
       "50%        5.000000\n",
       "75%       11.000000\n",
       "max       26.000000\n",
       "Name: cont, dtype: float64"
      ]
     },
     "execution_count": 79,
     "metadata": {},
     "output_type": "execute_result"
    }
   ],
   "source": [
    "df[\"cont\"].describe()"
   ]
  },
  {
   "cell_type": "code",
   "execution_count": 74,
   "metadata": {},
   "outputs": [],
   "source": [
    "bbox_df = pd.DataFrame(bbox_matrix, columns=[\"xCenter\",\"yCenter\",\"w\",\"h\",\"conf\"])\n",
    "df_cont = pd.concat([df, bbox_df], axis=1)"
   ]
  },
  {
   "cell_type": "code",
   "execution_count": 81,
   "metadata": {},
   "outputs": [
    {
     "data": {
      "text/html": [
       "<div>\n",
       "<style scoped>\n",
       "    .dataframe tbody tr th:only-of-type {\n",
       "        vertical-align: middle;\n",
       "    }\n",
       "\n",
       "    .dataframe tbody tr th {\n",
       "        vertical-align: top;\n",
       "    }\n",
       "\n",
       "    .dataframe thead th {\n",
       "        text-align: right;\n",
       "    }\n",
       "</style>\n",
       "<table border=\"1\" class=\"dataframe\">\n",
       "  <thead>\n",
       "    <tr style=\"text-align: right;\">\n",
       "      <th></th>\n",
       "      <th>frame</th>\n",
       "      <th>xCenter</th>\n",
       "      <th>yCenter</th>\n",
       "      <th>w</th>\n",
       "      <th>h</th>\n",
       "      <th>conf</th>\n",
       "    </tr>\n",
       "  </thead>\n",
       "  <tbody>\n",
       "    <tr>\n",
       "      <th>count</th>\n",
       "      <td>327.000000</td>\n",
       "      <td>327.000000</td>\n",
       "      <td>327.000000</td>\n",
       "      <td>327.000000</td>\n",
       "      <td>327.000000</td>\n",
       "      <td>327.000000</td>\n",
       "    </tr>\n",
       "    <tr>\n",
       "      <th>mean</th>\n",
       "      <td>2702.021407</td>\n",
       "      <td>0.557320</td>\n",
       "      <td>0.696974</td>\n",
       "      <td>0.308882</td>\n",
       "      <td>0.411509</td>\n",
       "      <td>0.955378</td>\n",
       "    </tr>\n",
       "    <tr>\n",
       "      <th>std</th>\n",
       "      <td>2361.808591</td>\n",
       "      <td>0.169790</td>\n",
       "      <td>0.169886</td>\n",
       "      <td>0.082437</td>\n",
       "      <td>0.132318</td>\n",
       "      <td>0.060275</td>\n",
       "    </tr>\n",
       "    <tr>\n",
       "      <th>min</th>\n",
       "      <td>41.000000</td>\n",
       "      <td>0.000000</td>\n",
       "      <td>0.000000</td>\n",
       "      <td>0.000000</td>\n",
       "      <td>0.000000</td>\n",
       "      <td>0.000000</td>\n",
       "    </tr>\n",
       "    <tr>\n",
       "      <th>25%</th>\n",
       "      <td>1465.500000</td>\n",
       "      <td>0.443165</td>\n",
       "      <td>0.665433</td>\n",
       "      <td>0.312009</td>\n",
       "      <td>0.331209</td>\n",
       "      <td>0.935504</td>\n",
       "    </tr>\n",
       "    <tr>\n",
       "      <th>50%</th>\n",
       "      <td>1674.000000</td>\n",
       "      <td>0.565897</td>\n",
       "      <td>0.746235</td>\n",
       "      <td>0.333829</td>\n",
       "      <td>0.409817</td>\n",
       "      <td>0.962051</td>\n",
       "    </tr>\n",
       "    <tr>\n",
       "      <th>75%</th>\n",
       "      <td>2711.000000</td>\n",
       "      <td>0.673465</td>\n",
       "      <td>0.813923</td>\n",
       "      <td>0.355840</td>\n",
       "      <td>0.524764</td>\n",
       "      <td>0.985231</td>\n",
       "    </tr>\n",
       "    <tr>\n",
       "      <th>max</th>\n",
       "      <td>9311.000000</td>\n",
       "      <td>0.944238</td>\n",
       "      <td>0.939655</td>\n",
       "      <td>0.446105</td>\n",
       "      <td>0.659935</td>\n",
       "      <td>0.999686</td>\n",
       "    </tr>\n",
       "  </tbody>\n",
       "</table>\n",
       "</div>"
      ],
      "text/plain": [
       "             frame     xCenter     yCenter           w           h        conf\n",
       "count   327.000000  327.000000  327.000000  327.000000  327.000000  327.000000\n",
       "mean   2702.021407    0.557320    0.696974    0.308882    0.411509    0.955378\n",
       "std    2361.808591    0.169790    0.169886    0.082437    0.132318    0.060275\n",
       "min      41.000000    0.000000    0.000000    0.000000    0.000000    0.000000\n",
       "25%    1465.500000    0.443165    0.665433    0.312009    0.331209    0.935504\n",
       "50%    1674.000000    0.565897    0.746235    0.333829    0.409817    0.962051\n",
       "75%    2711.000000    0.673465    0.813923    0.355840    0.524764    0.985231\n",
       "max    9311.000000    0.944238    0.939655    0.446105    0.659935    0.999686"
      ]
     },
     "execution_count": 81,
     "metadata": {},
     "output_type": "execute_result"
    }
   ],
   "source": [
    "df_cont.describe()"
   ]
  }
 ],
 "metadata": {
  "kernelspec": {
   "display_name": "Python 3",
   "language": "python",
   "name": "python3"
  },
  "language_info": {
   "codemirror_mode": {
    "name": "ipython",
    "version": 3
   },
   "file_extension": ".py",
   "mimetype": "text/x-python",
   "name": "python",
   "nbconvert_exporter": "python",
   "pygments_lexer": "ipython3",
   "version": "3.11.5"
  }
 },
 "nbformat": 4,
 "nbformat_minor": 2
}
