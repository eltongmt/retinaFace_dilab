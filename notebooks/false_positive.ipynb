{
 "cells": [
  {
   "cell_type": "code",
   "execution_count": 1,
   "metadata": {},
   "outputs": [],
   "source": [
    "import pandas as pd\n",
    "import numpy as np"
   ]
  },
  {
   "cell_type": "code",
   "execution_count": 150,
   "metadata": {},
   "outputs": [],
   "source": [
    "dup_df = pd.read_csv(r\"Z:\\elton\\DI\\duplicates.txt\")\n",
    "dup_df[\"frame\"] += 1 "
   ]
  },
  {
   "cell_type": "code",
   "execution_count": 151,
   "metadata": {},
   "outputs": [
    {
     "name": "stderr",
     "output_type": "stream",
     "text": [
      "C:\\Users\\multimaster\\AppData\\Local\\Temp\\ipykernel_3507888\\704322284.py:11: UserWarning: loadtxt: input contained no data: \"M:\\experiment_70\\included\\__20140610_16909\\supporting_files\\bbox_annotations_child_face\\img_4328.txt\"\n",
      "  bbox = np.loadtxt(path, delimiter=\" \")\n"
     ]
    }
   ],
   "source": [
    "prev = dup_df.iloc[0,1] - 1\n",
    "cont = 0\n",
    "\n",
    "cont_list = np.zeros((1, dup_df.shape[0]))\n",
    "bbox_matrix = np.zeros((dup_df.shape[0], 5))\n",
    "\n",
    "for i in dup_df.index:\n",
    "    path = f\"M:\\\\experiment_70\\\\included\\\\{dup_df.iloc[i, 0]}\\\\supporting_files\\\\bbox_annotations_child_face\\\\img_{dup_df.iloc[i, 1]}.txt\"\n",
    "\n",
    "    try:\n",
    "        bbox = np.loadtxt(path, delimiter=\" \")\n",
    "        bbox_matrix[i,:] = bbox[1:]\n",
    "    except:\n",
    "        pass\n",
    "\n",
    "\n",
    "    if dup_df.iloc[i, 1] == prev + 1: \n",
    "        cont += 1 \n",
    "        \n",
    "    else:\n",
    "        cont = 1 \n",
    "    cont_list[0, i] = cont\n",
    "\n",
    "    prev = dup_df.iloc[i, 1]\n",
    "\n",
    "dup_df[\"cont\"] = cont_list.T"
   ]
  },
  {
   "cell_type": "code",
   "execution_count": 152,
   "metadata": {},
   "outputs": [
    {
     "data": {
      "text/plain": [
       "count    327.000000\n",
       "mean       7.238532\n",
       "std        6.357305\n",
       "min        1.000000\n",
       "25%        2.000000\n",
       "50%        5.000000\n",
       "75%       11.000000\n",
       "max       26.000000\n",
       "Name: cont, dtype: float64"
      ]
     },
     "execution_count": 152,
     "metadata": {},
     "output_type": "execute_result"
    }
   ],
   "source": [
    "dup_df[\"cont\"].describe()"
   ]
  },
  {
   "cell_type": "code",
   "execution_count": 153,
   "metadata": {},
   "outputs": [],
   "source": [
    "temp = pd.DataFrame(bbox_matrix, columns=[\"xCenter\",\"yCenter\",\"w\",\"h\",\"conf\"])\n",
    "dup_df = pd.concat([dup_df, temp], axis=1)"
   ]
  },
  {
   "cell_type": "code",
   "execution_count": 180,
   "metadata": {},
   "outputs": [
    {
     "data": {
      "text/html": [
       "<div>\n",
       "<style scoped>\n",
       "    .dataframe tbody tr th:only-of-type {\n",
       "        vertical-align: middle;\n",
       "    }\n",
       "\n",
       "    .dataframe tbody tr th {\n",
       "        vertical-align: top;\n",
       "    }\n",
       "\n",
       "    .dataframe thead th {\n",
       "        text-align: right;\n",
       "    }\n",
       "</style>\n",
       "<table border=\"1\" class=\"dataframe\">\n",
       "  <thead>\n",
       "    <tr style=\"text-align: right;\">\n",
       "      <th></th>\n",
       "      <th>subID</th>\n",
       "      <th>frame</th>\n",
       "      <th>cont</th>\n",
       "      <th>xCenter</th>\n",
       "      <th>yCenter</th>\n",
       "      <th>w</th>\n",
       "      <th>h</th>\n",
       "      <th>conf</th>\n",
       "    </tr>\n",
       "  </thead>\n",
       "  <tbody>\n",
       "    <tr>\n",
       "      <th>0</th>\n",
       "      <td>__20141117_17062</td>\n",
       "      <td>1791</td>\n",
       "      <td>1.0</td>\n",
       "      <td>0.177498</td>\n",
       "      <td>0.794115</td>\n",
       "      <td>0.354996</td>\n",
       "      <td>0.409817</td>\n",
       "      <td>0.906869</td>\n",
       "    </tr>\n",
       "    <tr>\n",
       "      <th>1</th>\n",
       "      <td>__20141117_17062</td>\n",
       "      <td>1792</td>\n",
       "      <td>2.0</td>\n",
       "      <td>0.179790</td>\n",
       "      <td>0.814975</td>\n",
       "      <td>0.359581</td>\n",
       "      <td>0.368097</td>\n",
       "      <td>0.908439</td>\n",
       "    </tr>\n",
       "    <tr>\n",
       "      <th>2</th>\n",
       "      <td>__20141117_17062</td>\n",
       "      <td>2443</td>\n",
       "      <td>1.0</td>\n",
       "      <td>0.346097</td>\n",
       "      <td>0.294877</td>\n",
       "      <td>0.161710</td>\n",
       "      <td>0.316494</td>\n",
       "      <td>0.960901</td>\n",
       "    </tr>\n",
       "    <tr>\n",
       "      <th>3</th>\n",
       "      <td>__20141117_17062</td>\n",
       "      <td>2551</td>\n",
       "      <td>1.0</td>\n",
       "      <td>0.260287</td>\n",
       "      <td>0.761859</td>\n",
       "      <td>0.367764</td>\n",
       "      <td>0.474329</td>\n",
       "      <td>0.906285</td>\n",
       "    </tr>\n",
       "    <tr>\n",
       "      <th>4</th>\n",
       "      <td>__20141117_17062</td>\n",
       "      <td>2552</td>\n",
       "      <td>2.0</td>\n",
       "      <td>0.256250</td>\n",
       "      <td>0.774080</td>\n",
       "      <td>0.373150</td>\n",
       "      <td>0.449890</td>\n",
       "      <td>0.909170</td>\n",
       "    </tr>\n",
       "  </tbody>\n",
       "</table>\n",
       "</div>"
      ],
      "text/plain": [
       "              subID  frame  cont   xCenter   yCenter         w         h  \\\n",
       "0  __20141117_17062   1791   1.0  0.177498  0.794115  0.354996  0.409817   \n",
       "1  __20141117_17062   1792   2.0  0.179790  0.814975  0.359581  0.368097   \n",
       "2  __20141117_17062   2443   1.0  0.346097  0.294877  0.161710  0.316494   \n",
       "3  __20141117_17062   2551   1.0  0.260287  0.761859  0.367764  0.474329   \n",
       "4  __20141117_17062   2552   2.0  0.256250  0.774080  0.373150  0.449890   \n",
       "\n",
       "       conf  \n",
       "0  0.906869  \n",
       "1  0.908439  \n",
       "2  0.960901  \n",
       "3  0.906285  \n",
       "4  0.909170  "
      ]
     },
     "execution_count": 180,
     "metadata": {},
     "output_type": "execute_result"
    }
   ],
   "source": [
    "dup_df[\"frame\"] = dup_df[\"frame\"].astype(int)\n",
    "dup_df.head()"
   ]
  },
  {
   "cell_type": "code",
   "execution_count": null,
   "metadata": {},
   "outputs": [],
   "source": [
    "import os \n",
    "\n",
    "SUBJ = np.zeros((1,7))\n",
    "\n",
    "for subject in dup_df[\"subID\"].unique():\n",
    "    path = f\"M:\\\\experiment_70\\\\included\\\\{subject}\\\\supporting_files\\\\bbox_annotations_child_face\"\n",
    "    frames = os.listdir(path)\n",
    "\n",
    "    bbox_matrix = []\n",
    "    \n",
    "\n",
    "    for frame in frames:\n",
    "        frame_path = os.path.join(path, frame)\n",
    "        \n",
    "        if os.stat(frame_path).st_size == 0:\n",
    "            continue\n",
    "\n",
    "        frame_id = frame.split(\".\")[0][4:]\n",
    "        \n",
    "        bbox = np.loadtxt(frame_path, delimiter=\" \")\n",
    "        bbox = bbox[1:].tolist()\n",
    "        bbox.insert(0, frame_id)\n",
    "\n",
    "        bbox_matrix.append(bbox)\n",
    "    \n",
    "    bbox_matrix = np.array(bbox_matrix)\n",
    "    id_col = np.repeat(subject, len(bbox_matrix))\n",
    "    id_col = np.expand_dims(id_col, axis=1)\n",
    "\n",
    "    bbox_matrix = np.concatenate((id_col, bbox_matrix), axis=1)\n",
    "    SUBJ = np.concatenate((SUBJ, bbox_matrix))  "
   ]
  },
  {
   "cell_type": "code",
   "execution_count": 234,
   "metadata": {},
   "outputs": [
    {
     "data": {
      "text/html": [
       "<div>\n",
       "<style scoped>\n",
       "    .dataframe tbody tr th:only-of-type {\n",
       "        vertical-align: middle;\n",
       "    }\n",
       "\n",
       "    .dataframe tbody tr th {\n",
       "        vertical-align: top;\n",
       "    }\n",
       "\n",
       "    .dataframe thead th {\n",
       "        text-align: right;\n",
       "    }\n",
       "</style>\n",
       "<table border=\"1\" class=\"dataframe\">\n",
       "  <thead>\n",
       "    <tr style=\"text-align: right;\">\n",
       "      <th></th>\n",
       "      <th>subID</th>\n",
       "      <th>frame</th>\n",
       "      <th>xCenter</th>\n",
       "      <th>yCenter</th>\n",
       "      <th>w</th>\n",
       "      <th>h</th>\n",
       "      <th>conf</th>\n",
       "    </tr>\n",
       "  </thead>\n",
       "  <tbody>\n",
       "    <tr>\n",
       "      <th>0</th>\n",
       "      <td>__20141117_17062</td>\n",
       "      <td>6416</td>\n",
       "      <td>0.46209977865219115</td>\n",
       "      <td>0.09553888638814291</td>\n",
       "      <td>0.15049927234649657</td>\n",
       "      <td>0.19107777277628582</td>\n",
       "      <td>0.9993531107902527</td>\n",
       "    </tr>\n",
       "    <tr>\n",
       "      <th>1</th>\n",
       "      <td>__20141117_17062</td>\n",
       "      <td>6994</td>\n",
       "      <td>0.4280687928199768</td>\n",
       "      <td>0.22652813990910847</td>\n",
       "      <td>0.15470197200775146</td>\n",
       "      <td>0.2575809399286906</td>\n",
       "      <td>0.9991852641105652</td>\n",
       "    </tr>\n",
       "    <tr>\n",
       "      <th>2</th>\n",
       "      <td>__20141117_17062</td>\n",
       "      <td>8618</td>\n",
       "      <td>0.5218090772628784</td>\n",
       "      <td>0.18643648227055867</td>\n",
       "      <td>0.14276595115661622</td>\n",
       "      <td>0.23631937503814698</td>\n",
       "      <td>0.9987442493438721</td>\n",
       "    </tr>\n",
       "    <tr>\n",
       "      <th>3</th>\n",
       "      <td>__20141117_17062</td>\n",
       "      <td>2879</td>\n",
       "      <td>0.6458012104034424</td>\n",
       "      <td>0.11074429353078206</td>\n",
       "      <td>0.1483774185180664</td>\n",
       "      <td>0.22148858706156413</td>\n",
       "      <td>0.99913090467453</td>\n",
       "    </tr>\n",
       "    <tr>\n",
       "      <th>4</th>\n",
       "      <td>__20141117_17062</td>\n",
       "      <td>2053</td>\n",
       "      <td>0.6429788112640381</td>\n",
       "      <td>0.11080526237686475</td>\n",
       "      <td>0.141448974609375</td>\n",
       "      <td>0.21449911346038184</td>\n",
       "      <td>0.9992159605026245</td>\n",
       "    </tr>\n",
       "  </tbody>\n",
       "</table>\n",
       "</div>"
      ],
      "text/plain": [
       "              subID frame              xCenter              yCenter  \\\n",
       "0  __20141117_17062  6416  0.46209977865219115  0.09553888638814291   \n",
       "1  __20141117_17062  6994   0.4280687928199768  0.22652813990910847   \n",
       "2  __20141117_17062  8618   0.5218090772628784  0.18643648227055867   \n",
       "3  __20141117_17062  2879   0.6458012104034424  0.11074429353078206   \n",
       "4  __20141117_17062  2053   0.6429788112640381  0.11080526237686475   \n",
       "\n",
       "                     w                    h                conf  \n",
       "0  0.15049927234649657  0.19107777277628582  0.9993531107902527  \n",
       "1  0.15470197200775146   0.2575809399286906  0.9991852641105652  \n",
       "2  0.14276595115661622  0.23631937503814698  0.9987442493438721  \n",
       "3   0.1483774185180664  0.22148858706156413    0.99913090467453  \n",
       "4    0.141448974609375  0.21449911346038184  0.9992159605026245  "
      ]
     },
     "execution_count": 234,
     "metadata": {},
     "output_type": "execute_result"
    }
   ],
   "source": [
    "bbox_df = pd.DataFrame(SUBJ[1:,:], columns=[\"subID\",\"frame\",\"xCenter\",\"yCenter\",\"w\",\"h\",\"conf\"])\n",
    "bbox_df.head()"
   ]
  },
  {
   "cell_type": "code",
   "execution_count": 235,
   "metadata": {},
   "outputs": [],
   "source": [
    "bbox_df[\"frame\"] = bbox_df[\"frame\"].astype(int)\n",
    "bbox_df[\"xCenter\"] = bbox_df[\"xCenter\"].astype(float)\n",
    "bbox_df[\"yCenter\"] = bbox_df[\"yCenter\"].astype(float)\n",
    "bbox_df[\"w\"] = bbox_df[\"w\"].astype(float)\n",
    "bbox_df[\"h\"] = bbox_df[\"h\"].astype(float)\n",
    "bbox_df[\"conf\"] = bbox_df[\"conf\"].astype(float)"
   ]
  },
  {
   "cell_type": "code",
   "execution_count": 236,
   "metadata": {},
   "outputs": [],
   "source": [
    "x = bbox_df.reset_index().set_index([\"subID\",\"frame\"])\n",
    "y = dup_df.reset_index().set_index([\"subID\", \"frame\"])"
   ]
  },
  {
   "cell_type": "code",
   "execution_count": 237,
   "metadata": {},
   "outputs": [],
   "source": [
    "inter = bbox_df.index.intersection(dup_df.index)"
   ]
  },
  {
   "cell_type": "code",
   "execution_count": 275,
   "metadata": {},
   "outputs": [],
   "source": [
    "positives = bbox_df.loc[~bbox_df.index.isin(inter)].copy()\n",
    "positives.sort_values(by=[\"subID\",\"frame\"], inplace=True)\n",
    "positives.reset_index(inplace=True)"
   ]
  },
  {
   "cell_type": "code",
   "execution_count": null,
   "metadata": {},
   "outputs": [],
   "source": [
    "prev = positives.iloc[0,2] - 1\n",
    "cont = 0\n",
    "\n",
    "cont_list = np.zeros((1, positives.shape[0]))\n",
    "i  = 0\n",
    "\n",
    "for sub in positives[\"subID\"].unique():\n",
    "    for frame in positives[positives[\"subID\"] == sub][\"frame\"]:\n",
    "        if positives.iloc[i, 2] == prev + 1: \n",
    "            cont += 1 \n",
    "            \n",
    "        else:\n",
    "            cont = 1 \n",
    "        cont_list[0, i] = cont\n",
    "        prev = positives.iloc[i, 2]\n",
    "        i+=1 "
   ]
  },
  {
   "cell_type": "code",
   "execution_count": 271,
   "metadata": {},
   "outputs": [
    {
     "data": {
      "text/plain": [
       "<matplotlib.patches.StepPatch at 0x218047a5990>"
      ]
     },
     "execution_count": 271,
     "metadata": {},
     "output_type": "execute_result"
    },
    {
     "data": {
      "image/png": "[encoded data removed]",
      "text/plain": [
       "<Figure size 640x480 with 1 Axes>"
      ]
     },
     "metadata": {},
     "output_type": "display_data"
    }
   ],
   "source": [
    "import matplotlib.pyplot as plt\n",
    "\n",
    "counts, bins = np.histogram(cont_list)\n",
    "plt.stairs(counts, bins)"
   ]
  },
  {
   "cell_type": "code",
   "execution_count": 386,
   "metadata": {},
   "outputs": [],
   "source": [
    "thresh =  20\n",
    "\n",
    "def get_diff(thresh):\n",
    "\n",
    "    pRemain = (positives[\"count\"] >= thresh).sum()\n",
    "    nRemain = (dup_df[\"cont\"] >= thresh).sum()\n",
    "\n",
    "    return pRemain / positives[\"count\"].count(), nRemain / dup_df[\"cont\"].count()\n"
   ]
  },
  {
   "cell_type": "code",
   "execution_count": 351,
   "metadata": {},
   "outputs": [
    {
     "name": "stdout",
     "output_type": "stream",
     "text": [
      "Total positives lost: 12751\n",
      "Total negatives remaing: 21\n"
     ]
    }
   ],
   "source": [
    "print(f\"Total positives lost: {positives.shape[0] - pRemain}\")\n",
    "print(f\"Total negatives remaing: {dup_df.shape[0] - (dup_df.shape[0] - nRemain)}\")"
   ]
  },
  {
   "cell_type": "code",
   "execution_count": 417,
   "metadata": {},
   "outputs": [
    {
     "data": {
      "text/plain": [
       "Text(0.5, 0, 'detection length')"
      ]
     },
     "execution_count": 417,
     "metadata": {},
     "output_type": "execute_result"
    },
    {
     "data": {
      "image/png": "[encoded data removed]",
      "text/plain": [
       "<Figure size 640x480 with 1 Axes>"
      ]
     },
     "metadata": {},
     "output_type": "display_data"
    }
   ],
   "source": [
    "intervals = [i for i in range(2, 26 ,3)]\n",
    "\n",
    "nRemain = [(dup_df[\"cont\"] >= thresh).sum()/dup_df[\"cont\"].count() for thresh in intervals]\n",
    "pRemain = [(positives[\"count\"] >= thresh).sum() / positives[\"count\"].count() for thresh in intervals]\n",
    "\n",
    "\n",
    "fig, ax = plt.subplots()\n",
    "ax.set_xticks(intervals)\n",
    "\n",
    "ax.set_title(\"Detections across 10 subjects, exp70\")\n",
    "ax.bar(intervals, pRemain, label= \"prop of true instances\")\n",
    "ax.bar(intervals, nRemain, label= \"prop of false instances\")\n",
    "ax.legend()\n",
    "ax.set_xlabel(\"detection length\")"
   ]
  },
  {
   "cell_type": "code",
   "execution_count": 360,
   "metadata": {},
   "outputs": [],
   "source": [
    "import torch\n",
    "import torch.nn as nn\n",
    "import torch.nn.functional as F\n",
    "import os"
   ]
  },
  {
   "cell_type": "code",
   "execution_count": 363,
   "metadata": {},
   "outputs": [],
   "source": [
    "model = torch.nn.Sequential(\n",
    "    nn.Linear(4, 6),\n",
    "    nn.ReLU(),\n",
    "    nn.Linear(6, 10),\n",
    "    nn.ReLU(),\n",
    "    nn.Linear(10, 4),\n",
    "    nn.ReLU(),\n",
    "    nn.Linear(4, 1),\n",
    "    nn.Sigmoid()\n",
    ")"
   ]
  },
  {
   "cell_type": "code",
   "execution_count": 440,
   "metadata": {},
   "outputs": [],
   "source": [
    "from random import sample\n",
    "\n",
    "sample_sub = int(dup_df.shape[0] / len(bbox_df[\"subID\"].unique()))\n",
    "sample_idx = []\n",
    "\n",
    "for subject in bbox_df[\"subID\"].unique():\n",
    "    temp = bbox_df[bbox_df[\"subID\"] == subject].index\n",
    "    sample_vals = sample(list(temp), sample_sub)\n",
    "    \n",
    "    for val in sample_vals:\n",
    "        sample_idx.append(val)\n"
   ]
  },
  {
   "cell_type": "code",
   "execution_count": 439,
   "metadata": {},
   "outputs": [
    {
     "data": {
      "text/plain": [
       "320"
      ]
     },
     "execution_count": 439,
     "metadata": {},
     "output_type": "execute_result"
    }
   ],
   "source": [
    "train_df = pd.concat(sampleswwwsdw)"
   ]
  },
  {
   "cell_type": "code",
   "execution_count": null,
   "metadata": {},
   "outputs": [],
   "source": [
    "for epoch in 10:\n",
    "    for batch in \n",
    "    y_pred = model()\n",
    "    "
   ]
  }
 ],
 "metadata": {
  "kernelspec": {
   "display_name": "Python 3",
   "language": "python",
   "name": "python3"
  },
  "language_info": {
   "codemirror_mode": {
    "name": "ipython",
    "version": 3
   },
   "file_extension": ".py",
   "mimetype": "text/x-python",
   "name": "python",
   "nbconvert_exporter": "python",
   "pygments_lexer": "ipython3",
   "version": "3.11.5"
  }
 },
 "nbformat": 4,
 "nbformat_minor": 2
}
